{
 "cells": [
  {
   "cell_type": "markdown",
   "metadata": {},
   "source": [
    "A fully-connected neural network does a pretty good job here, because the spatial structure of the images is fairly simple."
   ]
  },
  {
   "cell_type": "markdown",
   "metadata": {},
   "source": [
    "need for an older numpy version to use with the old pytorch version below (which is needed for GPU usage on my machine)"
   ]
  },
  {
   "cell_type": "code",
   "execution_count": 1,
   "metadata": {},
   "outputs": [
    {
     "name": "stdout",
     "output_type": "stream",
     "text": [
      "Requirement already satisfied: numpy==1.26.4 in c:\\users\\70p6229\\computer_vision\\examples\\pytorch\\.venv\\lib\\site-packages (1.26.4)\n"
     ]
    }
   ],
   "source": [
    "! pip install numpy==1.26.4"
   ]
  },
  {
   "cell_type": "markdown",
   "metadata": {},
   "source": [
    "to use your GPU via CUDA:\n",
    "- run the command nvidia-smi on terminal to find out your CUDA version, e.g., 11.6\n",
    "- install the corresponding pytorch wheel (check here: https://pytorch.org/get-started/previous-versions/)\n",
    "- need for a fitting python version (3.10 in my case)"
   ]
  },
  {
   "cell_type": "code",
   "execution_count": 2,
   "metadata": {},
   "outputs": [
    {
     "name": "stdout",
     "output_type": "stream",
     "text": [
      "Looking in indexes: https://pypi.org/simple, https://download.pytorch.org/whl/cu116\n",
      "Requirement already satisfied: torch==1.13.1+cu116 in c:\\users\\70p6229\\computer_vision\\examples\\pytorch\\.venv\\lib\\site-packages (1.13.1+cu116)\n",
      "Requirement already satisfied: torchvision==0.14.1+cu116 in c:\\users\\70p6229\\computer_vision\\examples\\pytorch\\.venv\\lib\\site-packages (0.14.1+cu116)\n",
      "Requirement already satisfied: typing-extensions in c:\\users\\70p6229\\computer_vision\\examples\\pytorch\\.venv\\lib\\site-packages (from torch==1.13.1+cu116) (4.12.2)\n",
      "Requirement already satisfied: numpy in c:\\users\\70p6229\\computer_vision\\examples\\pytorch\\.venv\\lib\\site-packages (from torchvision==0.14.1+cu116) (1.26.4)\n",
      "Requirement already satisfied: requests in c:\\users\\70p6229\\computer_vision\\examples\\pytorch\\.venv\\lib\\site-packages (from torchvision==0.14.1+cu116) (2.32.3)\n",
      "Requirement already satisfied: pillow!=8.3.*,>=5.3.0 in c:\\users\\70p6229\\computer_vision\\examples\\pytorch\\.venv\\lib\\site-packages (from torchvision==0.14.1+cu116) (11.1.0)\n",
      "Requirement already satisfied: charset-normalizer<4,>=2 in c:\\users\\70p6229\\computer_vision\\examples\\pytorch\\.venv\\lib\\site-packages (from requests->torchvision==0.14.1+cu116) (3.4.1)\n",
      "Requirement already satisfied: idna<4,>=2.5 in c:\\users\\70p6229\\computer_vision\\examples\\pytorch\\.venv\\lib\\site-packages (from requests->torchvision==0.14.1+cu116) (3.10)\n",
      "Requirement already satisfied: urllib3<3,>=1.21.1 in c:\\users\\70p6229\\computer_vision\\examples\\pytorch\\.venv\\lib\\site-packages (from requests->torchvision==0.14.1+cu116) (2.3.0)\n",
      "Requirement already satisfied: certifi>=2017.4.17 in c:\\users\\70p6229\\computer_vision\\examples\\pytorch\\.venv\\lib\\site-packages (from requests->torchvision==0.14.1+cu116) (2025.1.31)\n"
     ]
    }
   ],
   "source": [
    "! pip install torch==1.13.1+cu116 torchvision==0.14.1+cu116 --extra-index-url https://download.pytorch.org/whl/cu116"
   ]
  },
  {
   "cell_type": "code",
   "execution_count": 3,
   "metadata": {},
   "outputs": [
    {
     "name": "stdout",
     "output_type": "stream",
     "text": [
      "Requirement already satisfied: matplotlib in c:\\users\\70p6229\\computer_vision\\examples\\pytorch\\.venv\\lib\\site-packages (3.10.1)\n",
      "Requirement already satisfied: contourpy>=1.0.1 in c:\\users\\70p6229\\computer_vision\\examples\\pytorch\\.venv\\lib\\site-packages (from matplotlib) (1.3.1)\n",
      "Requirement already satisfied: cycler>=0.10 in c:\\users\\70p6229\\computer_vision\\examples\\pytorch\\.venv\\lib\\site-packages (from matplotlib) (0.12.1)\n",
      "Requirement already satisfied: fonttools>=4.22.0 in c:\\users\\70p6229\\computer_vision\\examples\\pytorch\\.venv\\lib\\site-packages (from matplotlib) (4.56.0)\n",
      "Requirement already satisfied: kiwisolver>=1.3.1 in c:\\users\\70p6229\\computer_vision\\examples\\pytorch\\.venv\\lib\\site-packages (from matplotlib) (1.4.8)\n",
      "Requirement already satisfied: numpy>=1.23 in c:\\users\\70p6229\\computer_vision\\examples\\pytorch\\.venv\\lib\\site-packages (from matplotlib) (1.26.4)\n",
      "Requirement already satisfied: packaging>=20.0 in c:\\users\\70p6229\\computer_vision\\examples\\pytorch\\.venv\\lib\\site-packages (from matplotlib) (24.2)\n",
      "Requirement already satisfied: pillow>=8 in c:\\users\\70p6229\\computer_vision\\examples\\pytorch\\.venv\\lib\\site-packages (from matplotlib) (11.1.0)\n",
      "Requirement already satisfied: pyparsing>=2.3.1 in c:\\users\\70p6229\\computer_vision\\examples\\pytorch\\.venv\\lib\\site-packages (from matplotlib) (3.2.1)\n",
      "Requirement already satisfied: python-dateutil>=2.7 in c:\\users\\70p6229\\computer_vision\\examples\\pytorch\\.venv\\lib\\site-packages (from matplotlib) (2.9.0.post0)\n",
      "Requirement already satisfied: six>=1.5 in c:\\users\\70p6229\\computer_vision\\examples\\pytorch\\.venv\\lib\\site-packages (from python-dateutil>=2.7->matplotlib) (1.17.0)\n",
      "Requirement already satisfied: torcheval in c:\\users\\70p6229\\computer_vision\\examples\\pytorch\\.venv\\lib\\site-packages (0.0.7)\n",
      "Requirement already satisfied: typing-extensions in c:\\users\\70p6229\\computer_vision\\examples\\pytorch\\.venv\\lib\\site-packages (from torcheval) (4.12.2)\n"
     ]
    }
   ],
   "source": [
    "! pip install matplotlib\n",
    "! pip install torcheval"
   ]
  },
  {
   "cell_type": "code",
   "execution_count": 4,
   "metadata": {},
   "outputs": [],
   "source": [
    "import torch\n",
    "from torchvision import datasets, transforms\n",
    "from torcheval.metrics import MulticlassAccuracy\n",
    "import numpy as np\n",
    "import matplotlib.pyplot as plt"
   ]
  },
  {
   "cell_type": "markdown",
   "metadata": {},
   "source": [
    "check for GPU and use it if available"
   ]
  },
  {
   "cell_type": "code",
   "execution_count": 5,
   "metadata": {},
   "outputs": [
    {
     "data": {
      "text/plain": [
       "device(type='cuda', index=0)"
      ]
     },
     "execution_count": 5,
     "metadata": {},
     "output_type": "execute_result"
    }
   ],
   "source": [
    "if torch.cuda.is_available():\n",
    "    dev = \"cuda:0\"\n",
    "else:\n",
    "    dev = \"cpu\"\n",
    "device = torch.device(dev)\n",
    "device"
   ]
  },
  {
   "cell_type": "code",
   "execution_count": 6,
   "metadata": {},
   "outputs": [
    {
     "data": {
      "text/plain": [
       "Dataset MNIST\n",
       "    Number of datapoints: 60000\n",
       "    Root location: ./data\n",
       "    Split: Train\n",
       "    StandardTransform\n",
       "Transform: Compose(\n",
       "               ToTensor()\n",
       "           )"
      ]
     },
     "execution_count": 6,
     "metadata": {},
     "output_type": "execute_result"
    }
   ],
   "source": [
    "transform = transforms.Compose([transforms.ToTensor()])\n",
    "\n",
    "mnist_pytorch = datasets.MNIST(root='./data', train=True, download=True, transform=transform)\n",
    "\n",
    "mnist_pytorch"
   ]
  },
  {
   "cell_type": "code",
   "execution_count": 7,
   "metadata": {},
   "outputs": [
    {
     "data": {
      "text/plain": [
       "torch.Size([60000, 28, 28])"
      ]
     },
     "execution_count": 7,
     "metadata": {},
     "output_type": "execute_result"
    }
   ],
   "source": [
    "mnist_pytorch.data.shape"
   ]
  },
  {
   "cell_type": "code",
   "execution_count": 8,
   "metadata": {},
   "outputs": [
    {
     "data": {
      "text/plain": [
       "<matplotlib.image.AxesImage at 0x1ddb720fe20>"
      ]
     },
     "execution_count": 8,
     "metadata": {},
     "output_type": "execute_result"
    },
    {
     "data": {
      "image/png": "[encoded data removed]",
      "text/plain": [
       "<Figure size 640x480 with 1 Axes>"
      ]
     },
     "metadata": {},
     "output_type": "display_data"
    }
   ],
   "source": [
    "plt.imshow(mnist_pytorch.data[0], cmap='gray', vmin=0, vmax=255)"
   ]
  },
  {
   "cell_type": "code",
   "execution_count": 9,
   "metadata": {},
   "outputs": [
    {
     "data": {
      "text/plain": [
       "tensor([5, 0, 4,  ..., 5, 6, 8])"
      ]
     },
     "execution_count": 9,
     "metadata": {},
     "output_type": "execute_result"
    }
   ],
   "source": [
    "mnist_pytorch.targets"
   ]
  },
  {
   "cell_type": "markdown",
   "metadata": {},
   "source": [
    "convert to one-hot targets for multi-classification"
   ]
  },
  {
   "cell_type": "code",
   "execution_count": 10,
   "metadata": {},
   "outputs": [
    {
     "data": {
      "text/plain": [
       "tensor([[0., 0., 0.,  ..., 0., 0., 0.],\n",
       "        [1., 0., 0.,  ..., 0., 0., 0.],\n",
       "        [0., 0., 0.,  ..., 0., 0., 0.],\n",
       "        ...,\n",
       "        [0., 0., 0.,  ..., 0., 0., 0.],\n",
       "        [0., 0., 0.,  ..., 0., 0., 0.],\n",
       "        [0., 0., 0.,  ..., 0., 1., 0.]], device='cuda:0')"
      ]
     },
     "execution_count": 10,
     "metadata": {},
     "output_type": "execute_result"
    }
   ],
   "source": [
    "target_tensor = torch.nn.functional.one_hot(mnist_pytorch.targets).to(dtype=torch.float32).to(device)\n",
    "target_tensor"
   ]
  },
  {
   "cell_type": "markdown",
   "metadata": {},
   "source": [
    "need to flatten 2D structure of image for fully-connected neural network"
   ]
  },
  {
   "cell_type": "code",
   "execution_count": 11,
   "metadata": {},
   "outputs": [],
   "source": [
    "input_tensor = torch.flatten(mnist_pytorch.data, start_dim=1).to(dtype=torch.float32).to(device)"
   ]
  },
  {
   "cell_type": "code",
   "execution_count": 12,
   "metadata": {},
   "outputs": [],
   "source": [
    "input_ds = torch.utils.data.TensorDataset(input_tensor, target_tensor)"
   ]
  },
  {
   "cell_type": "markdown",
   "metadata": {},
   "source": [
    "split data in training and test sets"
   ]
  },
  {
   "cell_type": "code",
   "execution_count": 13,
   "metadata": {},
   "outputs": [],
   "source": [
    "train_ds, test_ds = torch.utils.data.random_split(input_ds, [0.8, 0.2])"
   ]
  },
  {
   "cell_type": "markdown",
   "metadata": {},
   "source": [
    "further split training set in training and validation sets"
   ]
  },
  {
   "cell_type": "code",
   "execution_count": 14,
   "metadata": {},
   "outputs": [],
   "source": [
    "train_ds, val_ds = torch.utils.data.random_split(train_ds, [0.9, 0.1])"
   ]
  },
  {
   "cell_type": "code",
   "execution_count": 15,
   "metadata": {},
   "outputs": [],
   "source": [
    "mini_batch_size = 512\n",
    "\n",
    "train_dl = torch.utils.data.DataLoader(train_ds, batch_size=mini_batch_size, shuffle=True, drop_last=False)\n",
    "valid_dl = torch.utils.data.DataLoader(val_ds, batch_size=mini_batch_size * 2)"
   ]
  },
  {
   "cell_type": "code",
   "execution_count": 16,
   "metadata": {},
   "outputs": [],
   "source": [
    "class FCN(torch.nn.Module):\n",
    "    def __init__(self):\n",
    "        super().__init__()\n",
    "\n",
    "        self.fcn = torch.nn.Sequential(\n",
    "            torch.nn.Linear(784, 500),\n",
    "            torch.nn.ReLU(),\n",
    "            torch.nn.Linear(500, 300),\n",
    "            torch.nn.ReLU(),\n",
    "            torch.nn.Linear(300, 100),\n",
    "            torch.nn.ReLU(),\n",
    "            torch.nn.Linear(100, 10)\n",
    "        )\n",
    "\n",
    "    def forward(self, X):\n",
    "        X = self.fcn(X)\n",
    "        return X"
   ]
  },
  {
   "cell_type": "code",
   "execution_count": 17,
   "metadata": {},
   "outputs": [],
   "source": [
    "model = FCN().to(device)\n",
    "optimizer = torch.optim.Adam(model.parameters())"
   ]
  },
  {
   "cell_type": "code",
   "execution_count": 18,
   "metadata": {},
   "outputs": [],
   "source": [
    "def fit(epochs, model, optimizer, train_dl, valid_dl=None):\n",
    "    loss_func = torch.nn.CrossEntropyLoss()\n",
    "\n",
    "    # loop over epochs\n",
    "    for epoch in range(epochs):\n",
    "        model.train()\n",
    "\n",
    "        # loop over mini-batches\n",
    "        for X_mb, y_mb in train_dl:\n",
    "            y_hat = model(X_mb)\n",
    "\n",
    "            loss = loss_func(y_hat, y_mb)\n",
    "            loss.backward()\n",
    "\n",
    "            optimizer.step()\n",
    "            optimizer.zero_grad()\n",
    "\n",
    "        model.eval()\n",
    "        with torch.no_grad():\n",
    "            train_loss = sum(loss_func(model(X_mb), y_mb) for X_mb, y_mb in train_dl)\n",
    "            valid_loss = sum(loss_func(model(X_mb), y_mb) for X_mb, y_mb in valid_dl)\n",
    "        print('epoch {}, training loss {}'.format(epoch + 1, train_loss / len(train_dl)))\n",
    "        print('epoch {}, validation loss {}'.format(epoch + 1, valid_loss / len(valid_dl)))\n",
    "\n",
    "    print('Finished training')\n",
    "\n",
    "    return model"
   ]
  },
  {
   "cell_type": "code",
   "execution_count": 19,
   "metadata": {},
   "outputs": [
    {
     "name": "stdout",
     "output_type": "stream",
     "text": [
      "epoch 1, training loss 0.15539845824241638\n",
      "epoch 1, validation loss 0.17667965590953827\n",
      "epoch 2, training loss 0.0702364519238472\n",
      "epoch 2, validation loss 0.10805642604827881\n",
      "epoch 3, training loss 0.05466736853122711\n",
      "epoch 3, validation loss 0.117375448346138\n",
      "epoch 4, training loss 0.03414401412010193\n",
      "epoch 4, validation loss 0.0973346158862114\n",
      "epoch 5, training loss 0.028278155252337456\n",
      "epoch 5, validation loss 0.10176986455917358\n",
      "epoch 6, training loss 0.01756204292178154\n",
      "epoch 6, validation loss 0.0929257795214653\n",
      "epoch 7, training loss 0.012858598493039608\n",
      "epoch 7, validation loss 0.10088201612234116\n",
      "epoch 8, training loss 0.019756538793444633\n",
      "epoch 8, validation loss 0.12365919351577759\n",
      "epoch 9, training loss 0.012539442628622055\n",
      "epoch 9, validation loss 0.1162634864449501\n",
      "epoch 10, training loss 0.014123691245913506\n",
      "epoch 10, validation loss 0.11275488138198853\n",
      "epoch 11, training loss 0.010019526816904545\n",
      "epoch 11, validation loss 0.12279381603002548\n",
      "epoch 12, training loss 0.01179102435708046\n",
      "epoch 12, validation loss 0.1210433840751648\n",
      "epoch 13, training loss 0.01712307147681713\n",
      "epoch 13, validation loss 0.1243358626961708\n",
      "epoch 14, training loss 0.012130040675401688\n",
      "epoch 14, validation loss 0.13962440192699432\n",
      "epoch 15, training loss 0.011761023662984371\n",
      "epoch 15, validation loss 0.12276031821966171\n",
      "epoch 16, training loss 0.006634322460740805\n",
      "epoch 16, validation loss 0.12330849468708038\n",
      "epoch 17, training loss 0.006525220815092325\n",
      "epoch 17, validation loss 0.12442965805530548\n",
      "epoch 18, training loss 0.011552856303751469\n",
      "epoch 18, validation loss 0.1407569944858551\n",
      "epoch 19, training loss 0.020475128665566444\n",
      "epoch 19, validation loss 0.1693597286939621\n",
      "epoch 20, training loss 0.013407828286290169\n",
      "epoch 20, validation loss 0.15881426632404327\n",
      "epoch 21, training loss 0.007141804788261652\n",
      "epoch 21, validation loss 0.14592067897319794\n",
      "epoch 22, training loss 0.021525926887989044\n",
      "epoch 22, validation loss 0.18213926255702972\n",
      "epoch 23, training loss 0.0360293909907341\n",
      "epoch 23, validation loss 0.1758415251970291\n",
      "epoch 24, training loss 0.008642948232591152\n",
      "epoch 24, validation loss 0.14833694696426392\n",
      "epoch 25, training loss 0.0058747646398842335\n",
      "epoch 25, validation loss 0.15343889594078064\n",
      "epoch 26, training loss 0.014375400729477406\n",
      "epoch 26, validation loss 0.18126410245895386\n",
      "epoch 27, training loss 0.004602654837071896\n",
      "epoch 27, validation loss 0.15777572989463806\n",
      "epoch 28, training loss 0.005904958583414555\n",
      "epoch 28, validation loss 0.17405226826667786\n",
      "epoch 29, training loss 0.01061419676989317\n",
      "epoch 29, validation loss 0.1859631985425949\n",
      "epoch 30, training loss 0.027297865599393845\n",
      "epoch 30, validation loss 0.18163332343101501\n",
      "epoch 31, training loss 0.010462453588843346\n",
      "epoch 31, validation loss 0.1665271371603012\n",
      "epoch 32, training loss 0.006934595759958029\n",
      "epoch 32, validation loss 0.16180075705051422\n",
      "epoch 33, training loss 0.0038332799449563026\n",
      "epoch 33, validation loss 0.15376147627830505\n",
      "epoch 34, training loss 0.006216815672814846\n",
      "epoch 34, validation loss 0.16081295907497406\n",
      "epoch 35, training loss 0.004534638952463865\n",
      "epoch 35, validation loss 0.16160595417022705\n",
      "epoch 36, training loss 0.0032290949020534754\n",
      "epoch 36, validation loss 0.1668757200241089\n",
      "epoch 37, training loss 0.0068946718238294125\n",
      "epoch 37, validation loss 0.15499436855316162\n",
      "epoch 38, training loss 0.008317575789988041\n",
      "epoch 38, validation loss 0.15553903579711914\n",
      "epoch 39, training loss 0.003928062040358782\n",
      "epoch 39, validation loss 0.16192609071731567\n",
      "epoch 40, training loss 0.007926767691969872\n",
      "epoch 40, validation loss 0.15444622933864594\n",
      "epoch 41, training loss 0.0065763965249061584\n",
      "epoch 41, validation loss 0.19397644698619843\n",
      "epoch 42, training loss 0.005873839370906353\n",
      "epoch 42, validation loss 0.1599309891462326\n",
      "epoch 43, training loss 0.007063212338835001\n",
      "epoch 43, validation loss 0.16580896079540253\n",
      "epoch 44, training loss 0.002830744255334139\n",
      "epoch 44, validation loss 0.1673918068408966\n",
      "epoch 45, training loss 0.003537005977705121\n",
      "epoch 45, validation loss 0.19355469942092896\n",
      "epoch 46, training loss 0.003998663276433945\n",
      "epoch 46, validation loss 0.16219200193881989\n",
      "epoch 47, training loss 0.009124469943344593\n",
      "epoch 47, validation loss 0.20841912925243378\n",
      "epoch 48, training loss 0.01201988011598587\n",
      "epoch 48, validation loss 0.20521922409534454\n",
      "epoch 49, training loss 0.014377482235431671\n",
      "epoch 49, validation loss 0.20061425864696503\n",
      "epoch 50, training loss 0.007549830712378025\n",
      "epoch 50, validation loss 0.16295862197875977\n",
      "Finished training\n"
     ]
    }
   ],
   "source": [
    "epochs = 50\n",
    "\n",
    "trained_model = fit(epochs, model, optimizer, train_dl, valid_dl)"
   ]
  },
  {
   "cell_type": "code",
   "execution_count": 20,
   "metadata": {},
   "outputs": [],
   "source": [
    "def evaluation(ds, model):\n",
    "    with torch.no_grad():\n",
    "        preds = model(ds[:][0]).cpu()\n",
    "\n",
    "    # take output node with highest probability\n",
    "    yhat = np.argmax(preds, axis=1)\n",
    "    y = ds[:][1].cpu()\n",
    "\n",
    "    # from one-hot back to labels\n",
    "    y = torch.argmax(y, dim=1)\n",
    "\n",
    "    metric = MulticlassAccuracy()\n",
    "\n",
    "    metric.update(yhat, y)\n",
    "    return metric.compute()"
   ]
  },
  {
   "cell_type": "code",
   "execution_count": 21,
   "metadata": {},
   "outputs": [
    {
     "data": {
      "text/plain": [
       "tensor(0.9978)"
      ]
     },
     "execution_count": 21,
     "metadata": {},
     "output_type": "execute_result"
    }
   ],
   "source": [
    "evaluation(train_ds, trained_model)"
   ]
  },
  {
   "cell_type": "code",
   "execution_count": 22,
   "metadata": {},
   "outputs": [
    {
     "data": {
      "text/plain": [
       "tensor(0.9749)"
      ]
     },
     "execution_count": 22,
     "metadata": {},
     "output_type": "execute_result"
    }
   ],
   "source": [
    "evaluation(test_ds, trained_model)"
   ]
  }
 ],
 "metadata": {
  "kernelspec": {
   "display_name": ".venv",
   "language": "python",
   "name": "python3"
  },
  "language_info": {
   "codemirror_mode": {
    "name": "ipython",
    "version": 3
   },
   "file_extension": ".py",
   "mimetype": "text/x-python",
   "name": "python",
   "nbconvert_exporter": "python",
   "pygments_lexer": "ipython3",
   "version": "3.10.11"
  }
 },
 "nbformat": 4,
 "nbformat_minor": 2
}
