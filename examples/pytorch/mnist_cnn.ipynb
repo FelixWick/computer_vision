{
 "cells": [
  {
   "cell_type": "code",
   "execution_count": 1,
   "metadata": {},
   "outputs": [],
   "source": [
    "import torch\n",
    "from torchvision import datasets, transforms\n",
    "from torcheval.metrics import MulticlassAccuracy\n",
    "import numpy as np"
   ]
  },
  {
   "cell_type": "code",
   "execution_count": 2,
   "metadata": {},
   "outputs": [
    {
     "data": {
      "text/plain": [
       "device(type='cuda', index=0)"
      ]
     },
     "execution_count": 2,
     "metadata": {},
     "output_type": "execute_result"
    }
   ],
   "source": [
    "if torch.cuda.is_available():\n",
    "    dev = \"cuda:0\"\n",
    "else:\n",
    "    dev = \"cpu\"\n",
    "device = torch.device(dev)\n",
    "device"
   ]
  },
  {
   "cell_type": "code",
   "execution_count": 3,
   "metadata": {},
   "outputs": [],
   "source": [
    "transform = transforms.Compose([transforms.ToTensor()])\n",
    "mnist_pytorch = datasets.MNIST(root='./data', train=True, download=True, transform=transform)"
   ]
  },
  {
   "cell_type": "code",
   "execution_count": 4,
   "metadata": {},
   "outputs": [],
   "source": [
    "target_tensor = torch.nn.functional.one_hot(mnist_pytorch.targets).to(dtype=torch.float32).to(device)"
   ]
  },
  {
   "cell_type": "markdown",
   "metadata": {},
   "source": [
    "need to add channel dimension"
   ]
  },
  {
   "cell_type": "code",
   "execution_count": 5,
   "metadata": {},
   "outputs": [],
   "source": [
    "input_tensor = mnist_pytorch.data.to(dtype=torch.float32).unsqueeze(1).to(device)"
   ]
  },
  {
   "cell_type": "code",
   "execution_count": 6,
   "metadata": {},
   "outputs": [],
   "source": [
    "input_ds = torch.utils.data.TensorDataset(input_tensor, target_tensor)"
   ]
  },
  {
   "cell_type": "code",
   "execution_count": 7,
   "metadata": {},
   "outputs": [],
   "source": [
    "train_ds, test_ds = torch.utils.data.random_split(input_ds, [0.8, 0.2])\n",
    "train_ds, val_ds = torch.utils.data.random_split(train_ds, [0.9, 0.1])"
   ]
  },
  {
   "cell_type": "code",
   "execution_count": 8,
   "metadata": {},
   "outputs": [],
   "source": [
    "mini_batch_size = 512\n",
    "\n",
    "train_dl = torch.utils.data.DataLoader(train_ds, batch_size=mini_batch_size, shuffle=True, drop_last=False)\n",
    "valid_dl = torch.utils.data.DataLoader(val_ds, batch_size=mini_batch_size * 2)"
   ]
  },
  {
   "cell_type": "code",
   "execution_count": 9,
   "metadata": {},
   "outputs": [],
   "source": [
    "class CNN(torch.nn.Module):\n",
    "    def __init__(self):\n",
    "        super().__init__()\n",
    "\n",
    "        self.cnn = torch.nn.Sequential(\n",
    "            torch.nn.Conv2d(in_channels=1, out_channels=10, kernel_size=5, padding=2),\n",
    "            torch.nn.BatchNorm2d(10),\n",
    "            torch.nn.ReLU(),\n",
    "            torch.nn.MaxPool2d(2, stride=2),\n",
    "            torch.nn.Conv2d(in_channels=10, out_channels=25, kernel_size=5),\n",
    "            torch.nn.BatchNorm2d(25),\n",
    "            torch.nn.ReLU(),\n",
    "            torch.nn.Conv2d(in_channels=25, out_channels=40, kernel_size=3, padding=1),\n",
    "            torch.nn.BatchNorm2d(40),\n",
    "            torch.nn.ReLU(),\n",
    "            torch.nn.Conv2d(in_channels=40, out_channels=30, kernel_size=3, padding=1),\n",
    "            torch.nn.BatchNorm2d(30),\n",
    "            torch.nn.ReLU(),\n",
    "            torch.nn.MaxPool2d(2, stride=2),\n",
    "            torch.nn.Flatten(),\n",
    "            torch.nn.Linear(750, 300),\n",
    "            torch.nn.ReLU(),\n",
    "            torch.nn.Dropout(0.4),\n",
    "            torch.nn.Linear(300, 100),\n",
    "            torch.nn.ReLU(),\n",
    "            torch.nn.Dropout(0.4),\n",
    "            torch.nn.Linear(100, 10)\n",
    "        )\n",
    "\n",
    "        # historical architecture\n",
    "        self.LeNet = torch.nn.Sequential(\n",
    "            torch.nn.Conv2d(in_channels=1, out_channels=6, kernel_size=5, padding=2),\n",
    "            torch.nn.Sigmoid(),\n",
    "            torch.nn.AvgPool2d(2, stride=2),\n",
    "            torch.nn.Conv2d(in_channels=6, out_channels=16, kernel_size=5),\n",
    "            torch.nn.Sigmoid(),\n",
    "            torch.nn.AvgPool2d(2, stride=2),\n",
    "            torch.nn.Flatten(),\n",
    "            torch.nn.Linear(400, 120),\n",
    "            torch.nn.Sigmoid(),\n",
    "            torch.nn.Linear(120, 84),\n",
    "            torch.nn.Sigmoid(),\n",
    "            torch.nn.Linear(84, 10)\n",
    "        )\n",
    "\n",
    "    def forward(self, X):\n",
    "        X = self.cnn(X)\n",
    "        # X = self.LeNet(X)\n",
    "        return X"
   ]
  },
  {
   "cell_type": "code",
   "execution_count": 10,
   "metadata": {},
   "outputs": [],
   "source": [
    "model = CNN().to(device)\n",
    "optimizer = torch.optim.Adam(model.parameters())"
   ]
  },
  {
   "cell_type": "code",
   "execution_count": 11,
   "metadata": {},
   "outputs": [],
   "source": [
    "def fit(epochs, model, optimizer, train_dl, valid_dl=None):\n",
    "    loss_func = torch.nn.CrossEntropyLoss()\n",
    "\n",
    "    # loop over epochs\n",
    "    for epoch in range(epochs):\n",
    "        model.train()\n",
    "\n",
    "        # loop over mini-batches\n",
    "        for X_mb, y_mb in train_dl:\n",
    "            y_hat = model(X_mb)\n",
    "\n",
    "            loss = loss_func(y_hat, y_mb)\n",
    "            loss.backward()\n",
    "\n",
    "            optimizer.step()\n",
    "            optimizer.zero_grad()\n",
    "\n",
    "        model.eval()\n",
    "        with torch.no_grad():\n",
    "            train_loss = sum(loss_func(model(X_mb), y_mb) for X_mb, y_mb in train_dl)\n",
    "            valid_loss = sum(loss_func(model(X_mb), y_mb) for X_mb, y_mb in valid_dl)\n",
    "        print('epoch {}, training loss {}'.format(epoch + 1, train_loss / len(train_dl)))\n",
    "        print('epoch {}, validation loss {}'.format(epoch + 1, valid_loss / len(valid_dl)))\n",
    "\n",
    "    print('Finished training')\n",
    "\n",
    "    return model"
   ]
  },
  {
   "cell_type": "code",
   "execution_count": 12,
   "metadata": {},
   "outputs": [
    {
     "name": "stdout",
     "output_type": "stream",
     "text": [
      "epoch 1, training loss 0.06457460671663284\n",
      "epoch 1, validation loss 0.06789901107549667\n",
      "epoch 2, training loss 0.04137010872364044\n",
      "epoch 2, validation loss 0.0526127815246582\n",
      "epoch 3, training loss 0.03103666938841343\n",
      "epoch 3, validation loss 0.04165218397974968\n",
      "epoch 4, training loss 0.030297299847006798\n",
      "epoch 4, validation loss 0.044845182448625565\n",
      "epoch 5, training loss 0.028076807036995888\n",
      "epoch 5, validation loss 0.043241746723651886\n",
      "epoch 6, training loss 0.01603178307414055\n",
      "epoch 6, validation loss 0.041545260697603226\n",
      "epoch 7, training loss 0.016189923509955406\n",
      "epoch 7, validation loss 0.0338912159204483\n",
      "epoch 8, training loss 0.014538048766553402\n",
      "epoch 8, validation loss 0.03178149089217186\n",
      "epoch 9, training loss 0.009976143017411232\n",
      "epoch 9, validation loss 0.033225882798433304\n",
      "epoch 10, training loss 0.011175926774740219\n",
      "epoch 10, validation loss 0.03820788860321045\n",
      "epoch 11, training loss 0.01431985106319189\n",
      "epoch 11, validation loss 0.048481084406375885\n",
      "epoch 12, training loss 0.009756353683769703\n",
      "epoch 12, validation loss 0.04057823866605759\n",
      "epoch 13, training loss 0.0066071744076907635\n",
      "epoch 13, validation loss 0.03142353519797325\n",
      "epoch 14, training loss 0.008569165132939816\n",
      "epoch 14, validation loss 0.03573329374194145\n",
      "epoch 15, training loss 0.004175880923867226\n",
      "epoch 15, validation loss 0.024642236530780792\n",
      "epoch 16, training loss 0.003668092656880617\n",
      "epoch 16, validation loss 0.03313770517706871\n",
      "epoch 17, training loss 0.009603592567145824\n",
      "epoch 17, validation loss 0.041330479085445404\n",
      "epoch 18, training loss 0.007630646228790283\n",
      "epoch 18, validation loss 0.03225010633468628\n",
      "epoch 19, training loss 0.00483698770403862\n",
      "epoch 19, validation loss 0.04375242814421654\n",
      "epoch 20, training loss 0.0031726136803627014\n",
      "epoch 20, validation loss 0.03853219375014305\n",
      "Finished training\n"
     ]
    }
   ],
   "source": [
    "epochs = 20\n",
    "\n",
    "trained_model = fit(epochs, model, optimizer, train_dl, valid_dl)"
   ]
  },
  {
   "cell_type": "code",
   "execution_count": 13,
   "metadata": {},
   "outputs": [],
   "source": [
    "def evaluation(ds, model):\n",
    "    with torch.no_grad():\n",
    "        preds = model(ds[:][0]).cpu()\n",
    "\n",
    "    # take output node with highest probability\n",
    "    yhat = np.argmax(preds, axis=1)\n",
    "    y = ds[:][1].cpu()\n",
    "\n",
    "    # from one-hot back to labels\n",
    "    y = torch.argmax(y, dim=1)\n",
    "\n",
    "    metric = MulticlassAccuracy()\n",
    "\n",
    "    metric.update(yhat, y)\n",
    "    return metric.compute()"
   ]
  },
  {
   "cell_type": "code",
   "execution_count": 14,
   "metadata": {},
   "outputs": [
    {
     "data": {
      "text/plain": [
       "tensor(0.9991)"
      ]
     },
     "execution_count": 14,
     "metadata": {},
     "output_type": "execute_result"
    }
   ],
   "source": [
    "evaluation(train_ds, trained_model)"
   ]
  },
  {
   "cell_type": "code",
   "execution_count": 15,
   "metadata": {},
   "outputs": [
    {
     "data": {
      "text/plain": [
       "tensor(0.9911)"
      ]
     },
     "execution_count": 15,
     "metadata": {},
     "output_type": "execute_result"
    }
   ],
   "source": [
    "evaluation(test_ds, trained_model)"
   ]
  }
 ],
 "metadata": {
  "kernelspec": {
   "display_name": ".venv",
   "language": "python",
   "name": "python3"
  },
  "language_info": {
   "codemirror_mode": {
    "name": "ipython",
    "version": 3
   },
   "file_extension": ".py",
   "mimetype": "text/x-python",
   "name": "python",
   "nbconvert_exporter": "python",
   "pygments_lexer": "ipython3",
   "version": "3.10.11"
  }
 },
 "nbformat": 4,
 "nbformat_minor": 2
}
